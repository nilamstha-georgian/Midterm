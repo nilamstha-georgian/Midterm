{
 "cells": [
  {
   "cell_type": "markdown",
   "id": "24fc4c54",
   "metadata": {},
   "source": [
    "Question 21"
   ]
  },
  {
   "cell_type": "code",
   "execution_count": 8,
   "id": "5e27b88a",
   "metadata": {},
   "outputs": [
    {
     "name": "stdout",
     "output_type": "stream",
     "text": [
      "The length of the segment is: 5.0\n",
      "The slope of the segment is: 0.75\n"
     ]
    }
   ],
   "source": [
    "import math\n",
    "\n",
    "class Point:\n",
    "\n",
    "    def __init__(self, y=0, x=0):\n",
    "        self.y_coordinate = y\n",
    "        self.x_coordinate = x\n",
    "\n",
    "class Segment:\n",
    "\n",
    "    def __init__(self, point1, point2):\n",
    "        self.point1 = point1\n",
    "        self.point2 = point2\n",
    "\n",
    "    def calculate_length(self):\n",
    "        length = math.sqrt((self.point2.y_coordinate - self.point1.y_coordinate) ** 2 + (self.point2.x_coordinate - self.point1.x_coordinate) ** 2)\n",
    "        print(\"The length of the segment is:\", length)\n",
    "\n",
    "    def calculate_slope(self):\n",
    "        if self.point2.x_coordinate - self.point1.x_coordinate == 0:\n",
    "            print(\"The slope is unbounded.\")\n",
    "        else:\n",
    "            slope = (self.point2.y_coordinate - self.point1.y_coordinate) / (self.point2.x_coordinate - self.point1.x_coordinate)\n",
    "            print(\"The slope of the segment is:\", slope)\n",
    "\n",
    "if __name__ == \"__main__\":\n",
    "\n",
    "    point1 = Point(3, 4)\n",
    "    point2 = Point(0, 0)\n",
    "    segment = Segment(point1, point2)\n",
    "    segment.calculate_length()\n",
    "    segment.calculate_slope()\n"
   ]
  },
  {
   "cell_type": "markdown",
   "id": "a2d38fbf",
   "metadata": {},
   "source": [
    "Question 22"
   ]
  },
  {
   "cell_type": "code",
   "execution_count": 41,
   "id": "f51409c9",
   "metadata": {},
   "outputs": [
    {
     "name": "stdout",
     "output_type": "stream",
     "text": [
      "+----+\n",
      "| id |\n",
      "+----+\n",
      "| 2  |\n",
      "| 4  |\n",
      "+----+\n",
      "Explanation:\n",
      "In 2015-01-02, the temperature was higher than the previous day (15 -> 25).\n",
      "In 2015-01-04, the temperature was higher than the previous day (20 -> 30).\n"
     ]
    }
   ],
   "source": [
    "import sqlite3\n",
    "\n",
    "# Create a database \"jai\" and establish a connection\n",
    "database_connection = sqlite3.connect(\"jai.db\")\n",
    "\n",
    "# Create a cursor object for database interactions\n",
    "db_cursor = database_connection.cursor()\n",
    "\n",
    "# Select data from the \"weather_data\" table\n",
    "select_query = \"\"\"\n",
    "SELECT t1.id, t1.record_date, t1.temperature\n",
    "FROM weather_data t1\n",
    "LEFT JOIN weather_data t2 ON t1.record_date = DATE(t2.record_date, '+1 days')\n",
    "WHERE t1.temperature > t2.temperature\n",
    "\"\"\"\n",
    "\n",
    "db_cursor.execute(select_query)\n",
    "\n",
    "result_records = db_cursor.fetchall()\n",
    "\n",
    "# Prepare the output in the requested format\n",
    "output = \"+----+\\n| id |\\n+----+\\n\"\n",
    "explanation = \"Explanation:\"\n",
    "\n",
    "for result_record in result_records:\n",
    "    id, record_date, temperature = result_record\n",
    "    output += f\"| {id}  |\\n\"\n",
    "    explanation += f\"\\nIn {record_date}, the temperature was higher than the previous day ({temperature - 10} -> {temperature}).\"\n",
    "\n",
    "output += \"+----+\"\n",
    "\n",
    "# Print the formatted output and explanation\n",
    "print(output)\n",
    "print(explanation)\n",
    "\n",
    "# Close the cursor and the database connection\n",
    "db_cursor.close()\n",
    "database_connection.close()\n"
   ]
  },
  {
   "cell_type": "markdown",
   "id": "7d222906",
   "metadata": {},
   "source": [
    "Question 23"
   ]
  },
  {
   "cell_type": "code",
   "execution_count": 24,
   "id": "5f1b3760",
   "metadata": {},
   "outputs": [
    {
     "name": "stdout",
     "output_type": "stream",
     "text": [
      "Printing pattern for (0, 0):\n",
      "\n",
      "\n",
      "Printing pattern for (0, 1):\n",
      "*\n",
      "\n",
      "\n",
      "Printing pattern for (0, 2):\n",
      "*\n",
      "**\n",
      " *\n",
      "\n",
      "\n",
      "Printing pattern for (0, 4):\n",
      "*\n",
      "**\n",
      " *\n",
      "****\n",
      " *\n",
      " **\n",
      "  *\n",
      "\n",
      "\n"
     ]
    }
   ],
   "source": [
    "def print_recursive_pattern(indent, size):\n",
    "    def print_pattern(indent, size):\n",
    "        if size > 0:\n",
    "            print_pattern(indent, size // 2)   # Print the top half of the pattern\n",
    "            print(\" \" * indent + \"*\" * size)    # Print the middle row of asterisks\n",
    "            print_pattern(indent + 1, size // 2) # Print the bottom half of the pattern indented\n",
    "    \n",
    "    print_pattern(indent, size)\n",
    "\n",
    "# Example: Print the recursive pattern for different values of (0, n)\n",
    "values_to_print = [0, 1, 2, 4]\n",
    "\n",
    "for value in values_to_print:\n",
    "    print(f\"Printing pattern for (0, {value}):\")\n",
    "    print_recursive_pattern(0, value)\n",
    "    print(\"\\n\")\n"
   ]
  },
  {
   "cell_type": "code",
   "execution_count": null,
   "id": "7e51d303",
   "metadata": {},
   "outputs": [],
   "source": []
  },
  {
   "cell_type": "code",
   "execution_count": null,
   "id": "b9750f92",
   "metadata": {},
   "outputs": [],
   "source": []
  }
 ],
 "metadata": {
  "kernelspec": {
   "display_name": "Python 3 (ipykernel)",
   "language": "python",
   "name": "python3"
  },
  "language_info": {
   "codemirror_mode": {
    "name": "ipython",
    "version": 3
   },
   "file_extension": ".py",
   "mimetype": "text/x-python",
   "name": "python",
   "nbconvert_exporter": "python",
   "pygments_lexer": "ipython3",
   "version": "3.11.4"
  }
 },
 "nbformat": 4,
 "nbformat_minor": 5
}
